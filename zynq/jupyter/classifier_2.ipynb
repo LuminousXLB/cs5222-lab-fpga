{
 "cells": [
  {
   "cell_type": "code",
   "execution_count": null,
   "metadata": {},
   "outputs": [],
   "source": [
    "from time import time\n",
    "\n",
    "import cffi\n",
    "import numpy as np\n",
    "from pynq import MMIO, Overlay, allocate\n",
    "\n",
    "ffi = cffi.FFI()\n",
    "\n",
    "# Classifier Dimensions\n",
    "BATCH = 8192\n",
    "FEAT = 256\n",
    "CLASSES = 10"
   ]
  },
  {
   "cell_type": "code",
   "execution_count": null,
   "metadata": {},
   "outputs": [],
   "source": [
    "# Prepare the custome overlay and DMA\n",
    "ol = Overlay(\"/home/xilinx/classifier.bit\")\n",
    "ol.download()\n",
    "\n",
    "dma_mm2s = ol.axi_dma_0\n",
    "dma_s2mm = ol.axi_dma_1\n",
    "mm2s_buffer = allocate(shape=(CLASSES * 4 + CLASSES * FEAT + BATCH * FEAT,), dtype=np.uint8)\n",
    "s2mm_buffer = allocate(shape=(BATCH * CLASSES,), dtype=np.int32)\n",
    "\n",
    "# Accelerator Base Address\n",
    "ACCEL_CTRL = 0x43C00000\n",
    "\n",
    "# Initialize HLS IP\n",
    "mmult_ip = MMIO(ACCEL_CTRL, 0x10000)\n",
    "\n",
    "# Start the accelerator\n",
    "ctrl = mmult_ip.read(0x00) & 0x08\n",
    "mmult_ip.write(0x00, (ctrl | 0x81))\n",
    "ctrl = mmult_ip.read(0x00)\n",
    "hex(ctrl)\n"
   ]
  },
  {
   "cell_type": "code",
   "execution_count": null,
   "metadata": {
    "collapsed": false,
    "deletable": true,
    "editable": true
   },
   "outputs": [],
   "source": [
    "# Initialize offsets, weights and inputs\n",
    "o = np.load(\"model_offsets_fixed.npy\").astype(np.int32)\n",
    "w = np.load(\"model_weights_fixed.npy\").astype(np.int8)\n",
    "i = np.load(\"test_data.npy\").astype(np.uint8)[0:BATCH]\n",
    "l = np.load(\"test_labels.npy\").astype(np.int32)[0:BATCH]"
   ]
  },
  {
   "cell_type": "code",
   "execution_count": null,
   "metadata": {
    "collapsed": false,
    "deletable": true,
    "editable": true
   },
   "outputs": [],
   "source": [
    "# Move offset, weight and input data to DMA buffer\n",
    "ffi.memmove(mm2s_buffer[:], ffi.cast(\"uint8_t *\", o.ctypes.data), CLASSES * 4)\n",
    "ffi.memmove(mm2s_buffer[CLASSES * 4 :], ffi.cast(\"uint8_t *\", w.ctypes.data), CLASSES * FEAT)\n",
    "ffi.memmove(mm2s_buffer[CLASSES * 4 + CLASSES * FEAT :], ffi.cast(\"uint8_t *\", i.ctypes.data), BATCH * FEAT)\n",
    "mm2s_buffer.flush()\n",
    "\n",
    "# Perform FPGA offloading\n",
    "start_t = time()\n",
    "dma_mm2s.sendchannel.transfer(mm2s_buffer)\n",
    "dma_s2mm.recvchannel.transfer(s2mm_buffer)\n",
    "dma_mm2s.sendchannel.wait()\n",
    "dma_s2mm.recvchannel.wait()\n",
    "fpga_time = time() - start_t\n",
    "\n",
    "# Dump FPGA result to a numpy array\n",
    "c = np.array(s2mm_buffer).reshape(BATCH, CLASSES)\n"
   ]
  },
  {
   "cell_type": "code",
   "execution_count": null,
   "metadata": {
    "collapsed": true,
    "deletable": true,
    "editable": true
   },
   "outputs": [],
   "source": [
    "# Prepare input and weight matrices for matrix multiplication on CPU\n",
    "ones = np.ones(BATCH).reshape((BATCH, 1))\n",
    "i_p = np.append(ones, i, axis=1)\n",
    "w_p = np.append(o.reshape(CLASSES, 1), w, axis=1)\n",
    "\n",
    "# Compute CPU result\n",
    "start_t = time()\n",
    "c_ref = np.dot(i_p, w_p.T)\n",
    "cpu_time = time() - start_t"
   ]
  },
  {
   "cell_type": "code",
   "execution_count": null,
   "metadata": {
    "collapsed": false,
    "deletable": true,
    "editable": true
   },
   "outputs": [],
   "source": [
    "# Evaluate validation accuracy\n",
    "actual_label = l.argmax(axis=1)\n",
    "fpga_label = c.argmax(axis=1)\n",
    "cpu_label = c_ref.argmax(axis=1)\n",
    "\n",
    "fpga_errors = np.sum(fpga_label != actual_label)\n",
    "cpu_errors = np.sum(cpu_label != actual_label)\n",
    "\n",
    "# Report results\n",
    "print(\"FPGA accuracy: {0:.2f}% validation error\".format(fpga_errors / BATCH * 100))\n",
    "print(\"CPU accuracy:  {0:.2f}% validation error\".format(cpu_errors / BATCH * 100))\n",
    "if cpu_time < fpga_time:\n",
    "    print(\"FPGA has a {0:.2f}x slowdown\".format(fpga_time / cpu_time))\n",
    "else:\n",
    "    print(\"FPGA has a {0:.2f}x speedup\".format(cpu_time / fpga_time))\n"
   ]
  },
  {
   "cell_type": "code",
   "execution_count": null,
   "metadata": {
    "collapsed": false,
    "deletable": true,
    "editable": true
   },
   "outputs": [],
   "source": [
    "# Render a given numpy 2D array of pixel data.\n",
    "def show(image):\n",
    "    from matplotlib import pyplot\n",
    "    import matplotlib as mpl\n",
    "\n",
    "    fig = pyplot.figure()\n",
    "    ax = fig.add_subplot(1, 1, 1)\n",
    "    imgplot = ax.imshow(image, cmap=mpl.cm.Greys)\n",
    "    imgplot.set_interpolation(\"nearest\")\n",
    "    ax.xaxis.set_ticks_position(\"top\")\n",
    "    ax.yaxis.set_ticks_position(\"left\")\n",
    "    pyplot.show()\n",
    "\n",
    "\n",
    "# Inspect one of the hand digits classified by the FPGA\n",
    "idx = 1\n",
    "show(i[idx].reshape(16, 16))\n",
    "print(\"Classified as {} by the FPGA\".format(np.argmax(c[idx])))"
   ]
  }
 ],
 "metadata": {
  "kernelspec": {
   "display_name": "Python 3",
   "language": "python",
   "name": "python3"
  },
  "language_info": {
   "codemirror_mode": {
    "name": "ipython",
    "version": 3
   },
   "file_extension": ".py",
   "mimetype": "text/x-python",
   "name": "python",
   "nbconvert_exporter": "python",
   "pygments_lexer": "ipython3",
   "version": "3.6.0"
  }
 },
 "nbformat": 4,
 "nbformat_minor": 2
}
